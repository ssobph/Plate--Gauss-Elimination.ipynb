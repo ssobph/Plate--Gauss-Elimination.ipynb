{
  "nbformat": 4,
  "nbformat_minor": 0,
  "metadata": {
    "colab": {
      "provenance": []
    },
    "kernelspec": {
      "name": "python3",
      "display_name": "Python 3"
    },
    "language_info": {
      "name": "python"
    }
  },
  "cells": [
    {
      "cell_type": "markdown",
      "source": [
        "Problem 1: Naïve Gauss Elimination"
      ],
      "metadata": {
        "id": "FzONlKf2Qehm"
      }
    },
    {
      "cell_type": "code",
      "source": [
        "import numpy as np\n",
        "\n",
        "def naive_gauss_elimination(A, b):\n",
        "    n = len(b)\n",
        "    for i in range(n):\n",
        "        for j in range(i + 1, n):\n",
        "            factor = A[j][i] / A[i][i]\n",
        "            for k in range(i, n):\n",
        "                A[j][k] -= factor * A[i][k]\n",
        "            b[j] -= factor * b[i]\n",
        "\n",
        "    # Back substitution\n",
        "    x = np.zeros(n)\n",
        "    for i in range(n - 1, -1, -1):\n",
        "        x[i] = (b[i] - np.dot(A[i][i + 1:], x[i + 1:])) / A[i][i]\n",
        "    return x\n",
        "\n",
        "A1 = np.array([[4, 1, -1], [5, 1, 2], [6, 1, 1]], dtype=float)\n",
        "b1 = np.array([-2, 4, 6], dtype=float)\n",
        "\n",
        "solution1 = naive_gauss_elimination(A1.copy(), b1.copy())\n",
        "print(\"Solution to Problem 1:\", solution1)\n"
      ],
      "metadata": {
        "colab": {
          "base_uri": "https://localhost:8080/"
        },
        "id": "WV90SxUPQhvm",
        "outputId": "3bb19c46-131f-4e97-cd71-ce95ac651462"
      },
      "execution_count": 1,
      "outputs": [
        {
          "output_type": "stream",
          "name": "stdout",
          "text": [
            "Solution to Problem 1: [  3. -13.   1.]\n"
          ]
        }
      ]
    },
    {
      "cell_type": "markdown",
      "source": [
        "Problem 2: Naïve Gauss Elimination with 4 Significant Digits"
      ],
      "metadata": {
        "id": "vil1QGPJQjAu"
      }
    },
    {
      "cell_type": "code",
      "source": [
        "def chop(value, digits=4):\n",
        "    factor = 10**digits\n",
        "    return int(value * factor) / factor\n",
        "\n",
        "def naive_gauss_elimination_chop(A, b):\n",
        "    n = len(b)\n",
        "    for i in range(n):\n",
        "        for j in range(i + 1, n):\n",
        "            factor = chop(A[j][i] / A[i][i])\n",
        "            for k in range(i, n):\n",
        "                A[j][k] = chop(A[j][k] - factor * A[i][k])\n",
        "            b[j] = chop(b[j] - factor * b[i])\n",
        "\n",
        "    x = np.zeros(n)\n",
        "    for i in range(n - 1, -1, -1):\n",
        "        x[i] = chop((b[i] - np.dot(A[i][i + 1:], x[i + 1:])) / A[i][i])\n",
        "    return x\n",
        "\n",
        "solution2 = naive_gauss_elimination_chop(A1.copy(), b1.copy())\n",
        "print(\"Solution to Problem 2:\", solution2)\n"
      ],
      "metadata": {
        "colab": {
          "base_uri": "https://localhost:8080/"
        },
        "id": "eUbznoFOQmF4",
        "outputId": "e9397c93-b8a4-4649-d416-b1560abb1511"
      },
      "execution_count": 2,
      "outputs": [
        {
          "output_type": "stream",
          "name": "stdout",
          "text": [
            "Solution to Problem 2: [  3. -13.   1.]\n"
          ]
        }
      ]
    },
    {
      "cell_type": "markdown",
      "source": [
        "Problem 3: Determinant of [A] Using Forward Elimination"
      ],
      "metadata": {
        "id": "Sf-KPgkoQoNq"
      }
    },
    {
      "cell_type": "code",
      "source": [
        "def determinant_using_gauss(A):\n",
        "    n = len(A)\n",
        "    det = 1\n",
        "    for i in range(n):\n",
        "        det *= A[i][i]\n",
        "        for j in range(i + 1, n):\n",
        "            factor = A[j][i] / A[i][i]\n",
        "            for k in range(i, n):\n",
        "                A[j][k] -= factor * A[i][k]\n",
        "    return det\n",
        "\n",
        "A3 = np.array([[10, -7, 0], [-3, 2.099, 6], [5, -1, 5]], dtype=float)\n",
        "det_A3 = determinant_using_gauss(A3.copy())\n",
        "print(\"Determinant of [A]:\", det_A3)\n"
      ],
      "metadata": {
        "colab": {
          "base_uri": "https://localhost:8080/"
        },
        "id": "RWO91zpvQr_3",
        "outputId": "ad420177-c1a6-4d78-8847-43b86a9c2bb3"
      },
      "execution_count": 3,
      "outputs": [
        {
          "output_type": "stream",
          "name": "stdout",
          "text": [
            "Determinant of [A]: -150.04999999999998\n"
          ]
        }
      ]
    },
    {
      "cell_type": "markdown",
      "source": [
        "Problem 4: Determinant After Reduction"
      ],
      "metadata": {
        "id": "9GCpPzsrQtaC"
      }
    },
    {
      "cell_type": "code",
      "source": [
        "B4 = np.array([[25, 5, 1], [0, -4.8, -1.56], [0, 0, 0.7]], dtype=float)\n",
        "det_B4 = np.linalg.det(B4)\n",
        "print(\"Determinant of [A]:\", det_B4)\n"
      ],
      "metadata": {
        "colab": {
          "base_uri": "https://localhost:8080/"
        },
        "id": "sa5_lUKrQvHf",
        "outputId": "23efcfce-e22c-4ed1-8026-91ab01e45250"
      },
      "execution_count": 4,
      "outputs": [
        {
          "output_type": "stream",
          "name": "stdout",
          "text": [
            "Determinant of [A]: -83.99999999999999\n"
          ]
        }
      ]
    },
    {
      "cell_type": "markdown",
      "source": [
        "Problem 5: Gaussian Elimination with Partial Pivoting"
      ],
      "metadata": {
        "id": "OUOCdoK8QwlV"
      }
    },
    {
      "cell_type": "code",
      "source": [
        "def gauss_elimination_partial_pivoting(A, b):\n",
        "    n = len(b)\n",
        "    for i in range(n):\n",
        "        max_row = np.argmax(abs(A[i:, i])) + i\n",
        "        A[[i, max_row]] = A[[max_row, i]]\n",
        "        b[[i, max_row]] = b[[max_row, i]]\n",
        "        for j in range(i + 1, n):\n",
        "            factor = A[j][i] / A[i][i]\n",
        "            for k in range(i, n):\n",
        "                A[j][k] -= factor * A[i][k]\n",
        "            b[j] -= factor * b[i]\n",
        "\n",
        "    x = np.zeros(n)\n",
        "    for i in range(n - 1, -1, -1):\n",
        "        x[i] = (b[i] - np.dot(A[i][i + 1:], x[i + 1:])) / A[i][i]\n",
        "    return x\n",
        "\n",
        "solution5 = gauss_elimination_partial_pivoting(A1.copy(), b1.copy())\n",
        "print(\"Solution to Problem 5:\", solution5)\n"
      ],
      "metadata": {
        "colab": {
          "base_uri": "https://localhost:8080/"
        },
        "id": "mWV-YNeRQypu",
        "outputId": "e1b18206-3c38-4963-99c8-bf2a6e749882"
      },
      "execution_count": 5,
      "outputs": [
        {
          "output_type": "stream",
          "name": "stdout",
          "text": [
            "Solution to Problem 5: [  3. -13.   1.]\n"
          ]
        }
      ]
    },
    {
      "cell_type": "markdown",
      "source": [
        "Problem 6: Gaussian Elimination with Partial Pivoting and Chopping"
      ],
      "metadata": {
        "id": "fbu5JPlgQ01X"
      }
    },
    {
      "cell_type": "code",
      "source": [
        "solution6 = naive_gauss_elimination_chop(A1.copy(), b1.copy())\n",
        "print(\"Solution to Problem 6:\", solution6)\n"
      ],
      "metadata": {
        "colab": {
          "base_uri": "https://localhost:8080/"
        },
        "id": "Xd2LezWoQ2Jb",
        "outputId": "c29ade72-1149-4dbe-bc1c-e78d1d872161"
      },
      "execution_count": 6,
      "outputs": [
        {
          "output_type": "stream",
          "name": "stdout",
          "text": [
            "Solution to Problem 6: [  3. -13.   1.]\n"
          ]
        }
      ]
    }
  ]
}